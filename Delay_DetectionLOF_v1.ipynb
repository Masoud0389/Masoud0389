{
  "nbformat": 4,
  "nbformat_minor": 0,
  "metadata": {
    "colab": {
      "name": "Delay_Detection.ipynb",
      "provenance": [],
      "collapsed_sections": [],
      "machine_shape": "hm",
      "authorship_tag": "ABX9TyPXa1cAdYA0R9NRbiOiVQmh",
      "include_colab_link": true
    },
    "kernelspec": {
      "name": "python3",
      "display_name": "Python 3"
    },
    "language_info": {
      "name": "python"
    },
    "accelerator": "TPU",
    "gpuClass": "standard"
  },
  "cells": [
    {
      "cell_type": "markdown",
      "metadata": {
        "id": "view-in-github",
        "colab_type": "text"
      },
      "source": [
        "<a href=\"https://colab.research.google.com/github/Masoud0389/Masoud0389/blob/main/Delay_DetectionLOF_v1.ipynb\" target=\"_parent\"><img src=\"https://colab.research.google.com/assets/colab-badge.svg\" alt=\"Open In Colab\"/></a>"
      ]
    },
    {
      "cell_type": "markdown",
      "source": [
        "# Importing Libraries"
      ],
      "metadata": {
        "id": "mMSCMOJxOu3K"
      }
    },
    {
      "cell_type": "code",
      "execution_count": 1,
      "metadata": {
        "id": "Gchgm84kNWoc"
      },
      "outputs": [],
      "source": [
        "import numpy as np\n",
        "import matplotlib.pyplot as plt\n",
        "import pandas as pd"
      ]
    },
    {
      "cell_type": "markdown",
      "source": [
        "# Importing Dataset"
      ],
      "metadata": {
        "id": "cW0bgrVaOtzj"
      }
    },
    {
      "cell_type": "code",
      "source": [
        "from google.colab import drive\n",
        "drive.mount('/content/drive')"
      ],
      "metadata": {
        "id": "kjOQJmSmrAGC",
        "colab": {
          "base_uri": "https://localhost:8080/"
        },
        "outputId": "c3273a66-9db8-4562-d950-77669917ada0"
      },
      "execution_count": 2,
      "outputs": [
        {
          "output_type": "stream",
          "name": "stdout",
          "text": [
            "Mounted at /content/drive\n"
          ]
        }
      ]
    },
    {
      "cell_type": "code",
      "source": [
        "#!pwd"
      ],
      "metadata": {
        "id": "8iV5tfz9r4we"
      },
      "execution_count": 3,
      "outputs": []
    },
    {
      "cell_type": "code",
      "source": [
        "dataset = pd.read_csv('drive/MyDrive/Datasets/DS_V_Delay2.csv')"
      ],
      "metadata": {
        "id": "18PF3GwCO6nS"
      },
      "execution_count": 4,
      "outputs": []
    },
    {
      "cell_type": "code",
      "source": [
        "X = dataset.iloc[100000:, :]"
      ],
      "metadata": {
        "id": "H_Aow0g4r52A"
      },
      "execution_count": 5,
      "outputs": []
    },
    {
      "cell_type": "code",
      "source": [
        "#print(X)"
      ],
      "metadata": {
        "id": "Z5ywm6d6_w6U"
      },
      "execution_count": 6,
      "outputs": []
    },
    {
      "cell_type": "markdown",
      "source": [
        "# Feature Scaling"
      ],
      "metadata": {
        "id": "cFRuDIJnPgfM"
      }
    },
    {
      "cell_type": "code",
      "source": [
        "from sklearn.utils.sparsefuncs import min_max_axis\n",
        "from sklearn import preprocessing\n",
        "from sklearn.preprocessing import StandardScaler\n",
        "from sklearn.preprocessing import normalize\n",
        "from sklearn.preprocessing import MaxAbsScaler\n",
        "# Scaling the data to bring all the attributes to a comparable level\n",
        "#scaler = StandardScaler()\n",
        "#X_scaled = scaler.fit_transform(X)\n",
        "maxabs_scaler = MaxAbsScaler()\n",
        "X_scaled = maxabs_scaler.fit_transform(X)\n",
        "#min_max_scaler = preprocessing.MinMaxScaler()\n",
        "#X_scaled = min_max_scaler.fit_transform(X) \n",
        "# Normalizing the data so that \n",
        "# the data approximately follows a Gaussian distribution\n",
        "X_normalized = normalize(X_scaled)\n",
        "# Converting the numpy array into a pandas DataFrame\n",
        "X_normalized = pd.DataFrame(X_normalized)"
      ],
      "metadata": {
        "id": "zBs8az9VmjbF"
      },
      "execution_count": 7,
      "outputs": []
    },
    {
      "cell_type": "markdown",
      "source": [
        "# Feature Selection/Reduction"
      ],
      "metadata": {
        "id": "5DFxoYBpnGKJ"
      }
    },
    {
      "cell_type": "code",
      "source": [
        "from sklearn.decomposition import PCA\n",
        "#from sklearn.feature_selection import VarianceThreshold\n",
        "#Y = VarianceThreshold(threshold=(.0010 * (1 - .0010)))\n",
        "#X = Y.fit_transform(X)\n",
        "#print(X)\n",
        "print(np.shape(X_normalized))\n",
        "pca = PCA(n_components = 2)\n",
        "X_principal = pca.fit_transform(X_normalized)\n",
        "X_principal = pd.DataFrame(X_principal)\n",
        "#X_principal.columns=['PC1','PC2']\n",
        "#cdict = {0: 'red', 1: 'blue'}\n",
        "#X_principal.columns = ['P1', 'P2']\n"
      ],
      "metadata": {
        "colab": {
          "base_uri": "https://localhost:8080/"
        },
        "id": "OTJu4w9unHCe",
        "outputId": "c86759c0-7d91-4584-f8d8-8e31a1f598b5"
      },
      "execution_count": 8,
      "outputs": [
        {
          "output_type": "stream",
          "name": "stdout",
          "text": [
            "(500000, 330)\n"
          ]
        }
      ]
    },
    {
      "cell_type": "code",
      "source": [
        "#np. set_printoptions(threshold=np. inf)\n",
        "print(X_principal)\n",
        "print(type(X_principal))\n",
        "#print(X_principal.head())\n",
        "#print(np.shape(X_principal))"
      ],
      "metadata": {
        "id": "OJO178PNuCiR",
        "colab": {
          "base_uri": "https://localhost:8080/"
        },
        "outputId": "c0afe2fc-62f2-4616-e607-d7bbb913dd9b"
      },
      "execution_count": 9,
      "outputs": [
        {
          "output_type": "stream",
          "name": "stdout",
          "text": [
            "               0         1\n",
            "0       0.007864  0.004112\n",
            "1       0.007864  0.004111\n",
            "2       0.007864  0.004111\n",
            "3       0.007864  0.004112\n",
            "4       0.007864  0.004112\n",
            "...          ...       ...\n",
            "499995 -0.004611 -0.003288\n",
            "499996 -0.004611 -0.003288\n",
            "499997 -0.004611 -0.003288\n",
            "499998 -0.004611 -0.003288\n",
            "499999 -0.004611 -0.003288\n",
            "\n",
            "[500000 rows x 2 columns]\n",
            "<class 'pandas.core.frame.DataFrame'>\n"
          ]
        }
      ]
    },
    {
      "cell_type": "markdown",
      "source": [
        "# Plot Test"
      ],
      "metadata": {
        "id": "J2JOE0o9oRP2"
      }
    },
    {
      "cell_type": "code",
      "source": [
        "plt.scatter(X_principal.iloc[:,0], X_principal.iloc[:,1], s = 1 , alpha=1)"
      ],
      "metadata": {
        "colab": {
          "base_uri": "https://localhost:8080/",
          "height": 282
        },
        "id": "BA2aSpjsniyc",
        "outputId": "2482c2ff-2171-4948-ad89-5e2503010336"
      },
      "execution_count": 10,
      "outputs": [
        {
          "output_type": "execute_result",
          "data": {
            "text/plain": [
              "<matplotlib.collections.PathCollection at 0x7fe12e4e72d0>"
            ]
          },
          "metadata": {},
          "execution_count": 10
        },
        {
          "output_type": "display_data",
          "data": {
            "text/plain": [
              "<Figure size 432x288 with 1 Axes>"
            ],
            "image/png": "[encoded data removed]"
          },
          "metadata": {
            "needs_background": "light"
          }
        }
      ]
    },
    {
      "cell_type": "code",
      "source": [
        "plt.scatter(X_principal.iloc[:200000,0], X_principal.iloc[:200000,1], c = 'b', s = 1 , alpha=1)\n",
        "plt.scatter(X_principal.iloc[260000:,0], X_principal.iloc[260000:,1],c = 'b', s = 1 , alpha=1)\n",
        "plt.scatter(X_principal.iloc[200000:260000,0], X_principal.iloc[200000:260000,1], c = 'r', s = 1 , alpha=1)\n",
        "plt.show()"
      ],
      "metadata": {
        "colab": {
          "base_uri": "https://localhost:8080/",
          "height": 265
        },
        "id": "B1MVtpy4lAGc",
        "outputId": "f056f51f-a079-40ca-dca0-a8e0a4e7d58e"
      },
      "execution_count": 11,
      "outputs": [
        {
          "output_type": "display_data",
          "data": {
            "text/plain": [
              "<Figure size 432x288 with 1 Axes>"
            ],
            "image/png": "[encoded data removed]"
          },
          "metadata": {
            "needs_background": "light"
          }
        }
      ]
    },
    {
      "cell_type": "code",
      "source": [
        "\n",
        "#print(X_principal.iloc[:,0])\n",
        "plt.scatter(X_principal.iloc[200000:260000,0], X_principal.iloc[200000:260000,1], s = 1 , alpha=1)\n",
        "#plt.title('Scatter plot')\n",
        "#plt.xlabel('x')\n",
        "#plt.ylabel('y')\n",
        "plt.show()"
      ],
      "metadata": {
        "colab": {
          "base_uri": "https://localhost:8080/",
          "height": 265
        },
        "id": "FL-lzyc92QHU",
        "outputId": "88ad5330-2e15-471a-9ce8-f3cca650048c"
      },
      "execution_count": 12,
      "outputs": [
        {
          "output_type": "display_data",
          "data": {
            "text/plain": [
              "<Figure size 432x288 with 1 Axes>"
            ],
            "image/png": "[encoded data removed]"
          },
          "metadata": {
            "needs_background": "light"
          }
        }
      ]
    },
    {
      "cell_type": "markdown",
      "source": [
        "# Anomaly Detection"
      ],
      "metadata": {
        "id": "FIkgCuY_zjYQ"
      }
    },
    {
      "cell_type": "code",
      "source": [
        "#from sklearn.cluster import DBSCAN\n",
        "# Numpy array of all the cluster labels assigned to each data point\n",
        "#db_default = DBSCAN(eps = 0.001, min_samples = 10000).fit_predict(X_principal)\n",
        "#label = db_default.labels_\n",
        "#labels.to_csv('test_DBSCAN1.csv')"
      ],
      "metadata": {
        "id": "Bx-1jK5nxl7U"
      },
      "execution_count": 13,
      "outputs": []
    },
    {
      "cell_type": "code",
      "source": [
        "from sklearn.neighbors import LocalOutlierFactor\n",
        "lof = LocalOutlierFactor(n_neighbors=1000)\n",
        "label = lof.fit_predict(X_principal)\n",
        "#label = lof.fit(X_principal)"
      ],
      "metadata": {
        "id": "UkaT4qvS-n2x"
      },
      "execution_count": 14,
      "outputs": []
    },
    {
      "cell_type": "code",
      "source": [
        "#from sklearn.cluster import KMeans\n",
        "#kmeans = KMeans(n_clusters=2, random_state=42, init='k-means++')\n",
        "#label = kmeans.fit_predict(X_principal)"
      ],
      "metadata": {
        "id": "yP2MZQZcMMOt"
      },
      "execution_count": 15,
      "outputs": []
    },
    {
      "cell_type": "code",
      "source": [
        "#print(label)\n",
        "#label = pd.DataFrame(label, columns = ['Column_A'])\n",
        "#label.to_csv(\"lof_test1.csv\")"
      ],
      "metadata": {
        "id": "mTn4DBpkNr5Y"
      },
      "execution_count": 16,
      "outputs": []
    },
    {
      "cell_type": "markdown",
      "source": [
        "# Visualization"
      ],
      "metadata": {
        "id": "aw4EUEBW3RPM"
      }
    },
    {
      "cell_type": "code",
      "source": [
        "plt.scatter(X_principal.loc[label == -1, 0], X_principal.loc[label == -1, 1], s = 1, c = 'red', label = 'Outliers Data')\n",
        "plt.scatter(X_principal.loc[label == 1, 0], X_principal.loc[label == 1, 1], s = 1, c = 'blue', label = 'Normal Data')\n",
        "#plt.scatter(X_principal.iloc[:,0], X_principal.iloc[:,1], c = 'b', s = 1 , alpha=1)\n",
        "#plt.scatter(values.iloc[:, 0], values.iloc[:, 1], c = 'r', s = 1 , alpha=1)\n",
        "plt.title('IEEE33BUS Voltages Delay Attack Detection')\n",
        "plt.xlabel('P1')\n",
        "plt.ylabel('P2')\n",
        "plt.legend()\n",
        "plt.show() "
      ],
      "metadata": {
        "colab": {
          "base_uri": "https://localhost:8080/",
          "height": 295
        },
        "id": "aibl7bMS3TzR",
        "outputId": "8d226696-87bf-40b9-ba4c-45ce13b69376"
      },
      "execution_count": 29,
      "outputs": [
        {
          "output_type": "display_data",
          "data": {
            "text/plain": [
              "<Figure size 432x288 with 1 Axes>"
            ],
            "image/png": "[encoded data removed]"
          },
          "metadata": {
            "needs_background": "light"
          }
        }
      ]
    },
    {
      "cell_type": "code",
      "source": [
        "index = np.where(label == -1)\n",
        "index1 = np.where(label==1)\n",
        "index = tuple((i+100000)/20000 for i in index)\n",
        "index1 = tuple((i+100000)/20000 for i in index1)"
      ],
      "metadata": {
        "id": "zBjpijspCPkd"
      },
      "execution_count": 30,
      "outputs": []
    },
    {
      "cell_type": "code",
      "source": [
        "plt.scatter(index, X_principal.loc[label == -1, 1], s = 1, c = 'red', label = 'Outliers Data')\n",
        "plt.scatter(index1, X_principal.loc[label == 1, 1], s = 1, c = 'blue', label = 'Normal Data')\n",
        "#plt.scatter(X_principal.iloc[:,0], X_principal.iloc[:,1], c = 'b', s = 1 , alpha=1)\n",
        "#plt.scatter(values.iloc[:, 0], values.iloc[:, 1], c = 'r', s = 1 , alpha=1)\n",
        "plt.title('IEEE33BUS Voltages Delay Attack Detection')\n",
        "plt.xlabel('Time')\n",
        "plt.ylabel('V')\n",
        "plt.legend()\n",
        "plt.show() "
      ],
      "metadata": {
        "colab": {
          "base_uri": "https://localhost:8080/",
          "height": 295
        },
        "id": "HJKyQrxdCHFd",
        "outputId": "42505b75-ad02-4970-8c7e-7dce68b4ee2b"
      },
      "execution_count": 31,
      "outputs": [
        {
          "output_type": "display_data",
          "data": {
            "text/plain": [
              "<Figure size 432x288 with 1 Axes>"
            ],
            "image/png": "[encoded data removed]"
          },
          "metadata": {
            "needs_background": "light"
          }
        }
      ]
    },
    {
      "cell_type": "code",
      "source": [
        "ind = pd.Series(range(1,500001))\n",
        "ind = (ind/20000)+5\n",
        "\n",
        "plt.scatter(index, X_principal.loc[label == -1, 1], s = 1, c = 'red', label = 'Outliers Data')\n"
      ],
      "metadata": {
        "colab": {
          "base_uri": "https://localhost:8080/",
          "height": 282
        },
        "id": "vB2Bin7xDZuk",
        "outputId": "59c21d40-2f13-4982-85fc-b624bb9defef"
      },
      "execution_count": 32,
      "outputs": [
        {
          "output_type": "execute_result",
          "data": {
            "text/plain": [
              "<matplotlib.collections.PathCollection at 0x7fe12b07ab10>"
            ]
          },
          "metadata": {},
          "execution_count": 32
        },
        {
          "output_type": "display_data",
          "data": {
            "text/plain": [
              "<Figure size 432x288 with 1 Axes>"
            ],
            "image/png": "[encoded data removed]"
          },
          "metadata": {
            "needs_background": "light"
          }
        }
      ]
    },
    {
      "cell_type": "code",
      "source": [
        "plt.scatter(ind[200000:260001], X_principal.loc[200000:260000,1], s = 1 )"
      ],
      "metadata": {
        "colab": {
          "base_uri": "https://localhost:8080/",
          "height": 282
        },
        "id": "VTZ7kLODFSt1",
        "outputId": "e1ddcf18-0ad5-4e7e-d140-3ef3311873b9"
      },
      "execution_count": 33,
      "outputs": [
        {
          "output_type": "execute_result",
          "data": {
            "text/plain": [
              "<matplotlib.collections.PathCollection at 0x7fe12a4d2c90>"
            ]
          },
          "metadata": {},
          "execution_count": 33
        },
        {
          "output_type": "display_data",
          "data": {
            "text/plain": [
              "<Figure size 432x288 with 1 Axes>"
            ],
            "image/png": "[encoded data removed]"
          },
          "metadata": {
            "needs_background": "light"
          }
        }
      ]
    }
  ]
}